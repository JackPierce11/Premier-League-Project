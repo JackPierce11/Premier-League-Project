{
 "cells": [
  {
   "attachments": {
    "image.png": {
     "image/png": "[encoded data removed]"
    }
   },
   "cell_type": "markdown",
   "id": "7929c873",
   "metadata": {},
   "source": [
    "# Predicting Premier League Match Winners From Game Data\n",
    "\n",
    "\n",
    "### Project Goal\n",
    "In this project we will be using post match data from premier league matches and predicting which team won the game so that coaches can understand from looking at post match data whether they 'deserved' to win the game or not. Using K-nearest neighbour, logistic regression and random forest classifier classification models we will see which models perform best and compare their results.\n",
    "\n",
    "### Introduction\n",
    "The premier league is considered the most competitive football league in the world. Nielsen research found that 3.2 billion people watched Premier League football during the 2018/19 campaign (1) and the evaluation of all premier league clubs combined being  18.7 billion pounds in total (2).\n",
    "\n",
    "\n",
    "sources:\n",
    "- (1) https://www.sportingindex.com/spread-betting-blog/premier-league-viewing-figures\n",
    "- (2) https://sqaf.club/premier-league-club-valuations/\n",
    "\n",
    "\n",
    "### Data Source\n",
    "https://github.com/dataquestio/project-walkthroughs/blob/master/football_matches/matches.csv\n",
    "\n",
    "\n",
    "### Conclusion\n",
    "**See full conclusion at bottom of project**\n",
    "\n",
    "We found that the **random forest classifier** performed the best on our data, with a **CV score of 0.692** and a **test accuracy score of 0.728**. This means that this model can correctly predict the winner of a football match by seeing the post match stats roughly 73% of the time.\n",
    "\n",
    "Below is the confusion matrix for our random forest classifier.\n",
    "\n",
    "![image.png](attachment:image.png)\n",
    "\n",
    "---\n",
    "---\n",
    "\n",
    "# 1. Getting Familiar With the Data\n",
    "\n",
    "Columns descriptions:\n",
    "- `date`: date the game was played\n",
    "- `time`: time the game was played\n",
    "- `comp`: the competition (premier league)\n",
    "- `round`: the gameweek\n",
    "- `day`: the day of the week the game was played\n",
    "- `venue`: either 'home' or 'away'\n",
    "- `result`: either win, loss or draw\n",
    "- `gf`: how many goals the team scored\n",
    "- `ga`: how mant goals the opponent scored\n",
    "- `opponent`: which team was the opponent\n",
    "- `xg`: the team's number of expected goals\n",
    "- `xga`: the opponent's number of expected goals\n",
    "- `poss`: the team's possession\n",
    "- `attendance`: the total game attendance\n",
    "- `captain`: the team's captain\n",
    "- `formation`: the team's formation\n",
    "- `referee`: the game's referee\n",
    "- `match report`: the match report\n",
    "- `notes`: notes on the match\n",
    "- `sh`: the team's number of shots\n",
    "- `sot`: the team's number of shots on target\n",
    "- `dist`: average shot distance in yards, not including penalties\n",
    "- `fk`: shots from free kicks\n",
    "- `pk`: the number of penalties converted\n",
    "- `pkatt`: the number of penalties awarded\n",
    "- `season`: which season the match was in\n",
    "- `team`: the team"
   ]
  },
  {
   "cell_type": "code",
   "execution_count": 407,
   "id": "6938f3c7",
   "metadata": {},
   "outputs": [],
   "source": [
    "# Importing libraries\n",
    "import pandas as pd\n",
    "import numpy as np\n",
    "\n",
    "import matplotlib.pyplot as plt\n",
    "import seaborn as sns\n",
    "%matplotlib inline"
   ]
  },
  {
   "cell_type": "code",
   "execution_count": 408,
   "id": "180b4901",
   "metadata": {},
   "outputs": [],
   "source": [
    "# Reading in the data\n",
    "matches = pd.read_csv(\"matches.csv\", index_col=0)"
   ]
  },
  {
   "cell_type": "code",
   "execution_count": 409,
   "id": "6a003a9d",
   "metadata": {},
   "outputs": [
    {
     "name": "stdout",
     "output_type": "stream",
     "text": [
      "There are 1389 rows (or number of games) and 27 columns in the dataset\n"
     ]
    },
    {
     "data": {
      "text/html": [
       "<div>\n",
       "<style scoped>\n",
       "    .dataframe tbody tr th:only-of-type {\n",
       "        vertical-align: middle;\n",
       "    }\n",
       "\n",
       "    .dataframe tbody tr th {\n",
       "        vertical-align: top;\n",
       "    }\n",
       "\n",
       "    .dataframe thead th {\n",
       "        text-align: right;\n",
       "    }\n",
       "</style>\n",
       "<table border=\"1\" class=\"dataframe\">\n",
       "  <thead>\n",
       "    <tr style=\"text-align: right;\">\n",
       "      <th></th>\n",
       "      <th>date</th>\n",
       "      <th>time</th>\n",
       "      <th>comp</th>\n",
       "      <th>round</th>\n",
       "      <th>day</th>\n",
       "      <th>venue</th>\n",
       "      <th>result</th>\n",
       "      <th>gf</th>\n",
       "      <th>ga</th>\n",
       "      <th>opponent</th>\n",
       "      <th>xg</th>\n",
       "      <th>xga</th>\n",
       "      <th>poss</th>\n",
       "      <th>attendance</th>\n",
       "      <th>captain</th>\n",
       "      <th>formation</th>\n",
       "      <th>referee</th>\n",
       "      <th>match report</th>\n",
       "      <th>notes</th>\n",
       "      <th>sh</th>\n",
       "      <th>sot</th>\n",
       "      <th>dist</th>\n",
       "      <th>fk</th>\n",
       "      <th>pk</th>\n",
       "      <th>pkatt</th>\n",
       "      <th>season</th>\n",
       "      <th>team</th>\n",
       "    </tr>\n",
       "  </thead>\n",
       "  <tbody>\n",
       "    <tr>\n",
       "      <th>1</th>\n",
       "      <td>2021-08-15</td>\n",
       "      <td>16:30</td>\n",
       "      <td>Premier League</td>\n",
       "      <td>Matchweek 1</td>\n",
       "      <td>Sun</td>\n",
       "      <td>Away</td>\n",
       "      <td>L</td>\n",
       "      <td>0.0</td>\n",
       "      <td>1.0</td>\n",
       "      <td>Tottenham</td>\n",
       "      <td>1.9</td>\n",
       "      <td>1.3</td>\n",
       "      <td>64.0</td>\n",
       "      <td>58262.0</td>\n",
       "      <td>Fernandinho</td>\n",
       "      <td>4-3-3</td>\n",
       "      <td>Anthony Taylor</td>\n",
       "      <td>Match Report</td>\n",
       "      <td>NaN</td>\n",
       "      <td>18.0</td>\n",
       "      <td>4.0</td>\n",
       "      <td>16.9</td>\n",
       "      <td>1.0</td>\n",
       "      <td>0.0</td>\n",
       "      <td>0.0</td>\n",
       "      <td>2022</td>\n",
       "      <td>Manchester City</td>\n",
       "    </tr>\n",
       "    <tr>\n",
       "      <th>2</th>\n",
       "      <td>2021-08-21</td>\n",
       "      <td>15:00</td>\n",
       "      <td>Premier League</td>\n",
       "      <td>Matchweek 2</td>\n",
       "      <td>Sat</td>\n",
       "      <td>Home</td>\n",
       "      <td>W</td>\n",
       "      <td>5.0</td>\n",
       "      <td>0.0</td>\n",
       "      <td>Norwich City</td>\n",
       "      <td>2.7</td>\n",
       "      <td>0.1</td>\n",
       "      <td>67.0</td>\n",
       "      <td>51437.0</td>\n",
       "      <td>İlkay Gündoğan</td>\n",
       "      <td>4-3-3</td>\n",
       "      <td>Graham Scott</td>\n",
       "      <td>Match Report</td>\n",
       "      <td>NaN</td>\n",
       "      <td>16.0</td>\n",
       "      <td>4.0</td>\n",
       "      <td>17.3</td>\n",
       "      <td>1.0</td>\n",
       "      <td>0.0</td>\n",
       "      <td>0.0</td>\n",
       "      <td>2022</td>\n",
       "      <td>Manchester City</td>\n",
       "    </tr>\n",
       "    <tr>\n",
       "      <th>3</th>\n",
       "      <td>2021-08-28</td>\n",
       "      <td>12:30</td>\n",
       "      <td>Premier League</td>\n",
       "      <td>Matchweek 3</td>\n",
       "      <td>Sat</td>\n",
       "      <td>Home</td>\n",
       "      <td>W</td>\n",
       "      <td>5.0</td>\n",
       "      <td>0.0</td>\n",
       "      <td>Arsenal</td>\n",
       "      <td>3.8</td>\n",
       "      <td>0.1</td>\n",
       "      <td>80.0</td>\n",
       "      <td>52276.0</td>\n",
       "      <td>İlkay Gündoğan</td>\n",
       "      <td>4-3-3</td>\n",
       "      <td>Martin Atkinson</td>\n",
       "      <td>Match Report</td>\n",
       "      <td>NaN</td>\n",
       "      <td>25.0</td>\n",
       "      <td>10.0</td>\n",
       "      <td>14.3</td>\n",
       "      <td>0.0</td>\n",
       "      <td>0.0</td>\n",
       "      <td>0.0</td>\n",
       "      <td>2022</td>\n",
       "      <td>Manchester City</td>\n",
       "    </tr>\n",
       "    <tr>\n",
       "      <th>4</th>\n",
       "      <td>2021-09-11</td>\n",
       "      <td>15:00</td>\n",
       "      <td>Premier League</td>\n",
       "      <td>Matchweek 4</td>\n",
       "      <td>Sat</td>\n",
       "      <td>Away</td>\n",
       "      <td>W</td>\n",
       "      <td>1.0</td>\n",
       "      <td>0.0</td>\n",
       "      <td>Leicester City</td>\n",
       "      <td>2.9</td>\n",
       "      <td>0.8</td>\n",
       "      <td>61.0</td>\n",
       "      <td>32087.0</td>\n",
       "      <td>İlkay Gündoğan</td>\n",
       "      <td>4-3-3</td>\n",
       "      <td>Paul Tierney</td>\n",
       "      <td>Match Report</td>\n",
       "      <td>NaN</td>\n",
       "      <td>25.0</td>\n",
       "      <td>8.0</td>\n",
       "      <td>14.0</td>\n",
       "      <td>0.0</td>\n",
       "      <td>0.0</td>\n",
       "      <td>0.0</td>\n",
       "      <td>2022</td>\n",
       "      <td>Manchester City</td>\n",
       "    </tr>\n",
       "    <tr>\n",
       "      <th>6</th>\n",
       "      <td>2021-09-18</td>\n",
       "      <td>15:00</td>\n",
       "      <td>Premier League</td>\n",
       "      <td>Matchweek 5</td>\n",
       "      <td>Sat</td>\n",
       "      <td>Home</td>\n",
       "      <td>D</td>\n",
       "      <td>0.0</td>\n",
       "      <td>0.0</td>\n",
       "      <td>Southampton</td>\n",
       "      <td>1.1</td>\n",
       "      <td>0.4</td>\n",
       "      <td>63.0</td>\n",
       "      <td>52698.0</td>\n",
       "      <td>Fernandinho</td>\n",
       "      <td>4-3-3</td>\n",
       "      <td>Jonathan Moss</td>\n",
       "      <td>Match Report</td>\n",
       "      <td>NaN</td>\n",
       "      <td>16.0</td>\n",
       "      <td>1.0</td>\n",
       "      <td>15.7</td>\n",
       "      <td>1.0</td>\n",
       "      <td>0.0</td>\n",
       "      <td>0.0</td>\n",
       "      <td>2022</td>\n",
       "      <td>Manchester City</td>\n",
       "    </tr>\n",
       "  </tbody>\n",
       "</table>\n",
       "</div>"
      ],
      "text/plain": [
       "         date   time            comp        round  day venue result   gf   ga  \\\n",
       "1  2021-08-15  16:30  Premier League  Matchweek 1  Sun  Away      L  0.0  1.0   \n",
       "2  2021-08-21  15:00  Premier League  Matchweek 2  Sat  Home      W  5.0  0.0   \n",
       "3  2021-08-28  12:30  Premier League  Matchweek 3  Sat  Home      W  5.0  0.0   \n",
       "4  2021-09-11  15:00  Premier League  Matchweek 4  Sat  Away      W  1.0  0.0   \n",
       "6  2021-09-18  15:00  Premier League  Matchweek 5  Sat  Home      D  0.0  0.0   \n",
       "\n",
       "         opponent   xg  xga  poss  attendance         captain formation  \\\n",
       "1       Tottenham  1.9  1.3  64.0     58262.0     Fernandinho     4-3-3   \n",
       "2    Norwich City  2.7  0.1  67.0     51437.0  İlkay Gündoğan     4-3-3   \n",
       "3         Arsenal  3.8  0.1  80.0     52276.0  İlkay Gündoğan     4-3-3   \n",
       "4  Leicester City  2.9  0.8  61.0     32087.0  İlkay Gündoğan     4-3-3   \n",
       "6     Southampton  1.1  0.4  63.0     52698.0     Fernandinho     4-3-3   \n",
       "\n",
       "           referee  match report  notes    sh   sot  dist   fk   pk  pkatt  \\\n",
       "1   Anthony Taylor  Match Report    NaN  18.0   4.0  16.9  1.0  0.0    0.0   \n",
       "2     Graham Scott  Match Report    NaN  16.0   4.0  17.3  1.0  0.0    0.0   \n",
       "3  Martin Atkinson  Match Report    NaN  25.0  10.0  14.3  0.0  0.0    0.0   \n",
       "4     Paul Tierney  Match Report    NaN  25.0   8.0  14.0  0.0  0.0    0.0   \n",
       "6    Jonathan Moss  Match Report    NaN  16.0   1.0  15.7  1.0  0.0    0.0   \n",
       "\n",
       "   season             team  \n",
       "1    2022  Manchester City  \n",
       "2    2022  Manchester City  \n",
       "3    2022  Manchester City  \n",
       "4    2022  Manchester City  \n",
       "6    2022  Manchester City  "
      ]
     },
     "execution_count": 409,
     "metadata": {},
     "output_type": "execute_result"
    }
   ],
   "source": [
    "# Looking at the first few rows of the dataset\n",
    "pd.set_option('display.max_columns', None)\n",
    "print(f'There are {matches.shape[0]} rows (or number of games) and {matches.shape[1]} columns in the dataset')\n",
    "matches.head()"
   ]
  },
  {
   "cell_type": "markdown",
   "id": "905c3e60",
   "metadata": {},
   "source": [
    "Observations:\n",
    "- Can see columns which may be redundant: `comp`, `match report`, `notes`\n",
    "- The dataset is quite small, with only 1389 rows.\n",
    "    - Should think about getting more data from different premier league seasons, or maybe using data from other leagues.\n",
    "\n",
    "Lets have a closer look at these columns"
   ]
  },
  {
   "cell_type": "code",
   "execution_count": 410,
   "id": "044a5845",
   "metadata": {},
   "outputs": [
    {
     "name": "stdout",
     "output_type": "stream",
     "text": [
      "Premier League    1389\n",
      "Name: comp, dtype: int64\n",
      "______________________________\n",
      "Match Report    1389\n",
      "Name: match report, dtype: int64\n",
      "______________________________\n",
      "NaN    1389\n",
      "Name: notes, dtype: int64\n"
     ]
    }
   ],
   "source": [
    "# checking different values and their frequencies for the `comp`, `match report` and `notes` columns\n",
    "print(matches['comp'].value_counts())\n",
    "print('_'*30)\n",
    "print(matches['match report'].value_counts())\n",
    "print('_'*30)\n",
    "print(matches['notes'].value_counts(dropna=False))"
   ]
  },
  {
   "cell_type": "markdown",
   "id": "ae133ce9",
   "metadata": {},
   "source": [
    "I will remove all these features as every row contains the same information they are all redundant."
   ]
  },
  {
   "cell_type": "code",
   "execution_count": 411,
   "id": "b7750ec7",
   "metadata": {},
   "outputs": [],
   "source": [
    "# Dropping the columns that have the same value for every row\n",
    "matches = matches.drop(['comp', 'match report', 'notes'], axis=1)"
   ]
  },
  {
   "cell_type": "code",
   "execution_count": 412,
   "id": "5db4e636",
   "metadata": {},
   "outputs": [
    {
     "name": "stdout",
     "output_type": "stream",
     "text": [
      "<class 'pandas.core.frame.DataFrame'>\n",
      "Int64Index: 1389 entries, 1 to 42\n",
      "Data columns (total 24 columns):\n",
      " #   Column      Non-Null Count  Dtype  \n",
      "---  ------      --------------  -----  \n",
      " 0   date        1389 non-null   object \n",
      " 1   time        1389 non-null   object \n",
      " 2   round       1389 non-null   object \n",
      " 3   day         1389 non-null   object \n",
      " 4   venue       1389 non-null   object \n",
      " 5   result      1389 non-null   object \n",
      " 6   gf          1389 non-null   float64\n",
      " 7   ga          1389 non-null   float64\n",
      " 8   opponent    1389 non-null   object \n",
      " 9   xg          1389 non-null   float64\n",
      " 10  xga         1389 non-null   float64\n",
      " 11  poss        1389 non-null   float64\n",
      " 12  attendance  693 non-null    float64\n",
      " 13  captain     1389 non-null   object \n",
      " 14  formation   1389 non-null   object \n",
      " 15  referee     1389 non-null   object \n",
      " 16  sh          1389 non-null   float64\n",
      " 17  sot         1389 non-null   float64\n",
      " 18  dist        1388 non-null   float64\n",
      " 19  fk          1389 non-null   float64\n",
      " 20  pk          1389 non-null   float64\n",
      " 21  pkatt       1389 non-null   float64\n",
      " 22  season      1389 non-null   int64  \n",
      " 23  team        1389 non-null   object \n",
      "dtypes: float64(12), int64(1), object(11)\n",
      "memory usage: 271.3+ KB\n"
     ]
    }
   ],
   "source": [
    "matches.info()"
   ]
  },
  {
   "cell_type": "markdown",
   "id": "c0dc18fc",
   "metadata": {},
   "source": [
    "Observations:\n",
    "- The `date` column is stored as a string (we will convert to datetime)\n",
    "- The only column with missing values is the `attendance` column.\n",
    "- The dataset contains 12 categorical variables and 12 numerical variables. (`season` is stored as 'int64' but is a categorical variable.) \n",
    "\n",
    "lets change the datatype for the `season` column to reflect that it is a categorical variable and change the `date` column to datetime.\n",
    "\n",
    "Changing the `date` column to a datetime type allows us to then split the data into our train and test splits, so that the test set is the most recent subset of the data."
   ]
  },
  {
   "cell_type": "code",
   "execution_count": 413,
   "id": "98bf840b",
   "metadata": {},
   "outputs": [
    {
     "name": "stdout",
     "output_type": "stream",
     "text": [
      "The test set is 24.932249322493224 percent of the overall data\n"
     ]
    }
   ],
   "source": [
    "# Changing the datatype for the `date` column to datetime\n",
    "matches['date'] = pd.to_datetime(matches['date'])\n",
    "\n",
    "# Adding the `win` column which will be the target variable\n",
    "matches['win'] = matches['result'].apply(lambda x: 1 if x=='W' else 0)\n",
    "\n",
    "# Creating test and train sets to be used later for our models\n",
    "train = matches[matches['date'] < '2022-01-01'].copy()\n",
    "test = matches[matches['date'] > '2022-01-01'].copy()\n",
    "\n",
    "# Index to know which dataset each row belongs to\n",
    "train['train'] = 1\n",
    "test['train'] = 0\n",
    "\n",
    "# rejoining the train and test sets with an index to show which set each row is a part of\n",
    "all_data = pd.concat([train, test])\n",
    "\n",
    "# Printing the percentage of the total dataset that is in the test set\n",
    "print(f'The test set is {test.shape[0]/train.shape[0] * 100} percent of the overall data')"
   ]
  },
  {
   "cell_type": "markdown",
   "id": "71309c22",
   "metadata": {},
   "source": [
    "Now we have seen the entire dataset and split it into test and train sets, we can begin the exploratory data analysis on the train set."
   ]
  },
  {
   "cell_type": "markdown",
   "id": "2592d863",
   "metadata": {},
   "source": [
    "## 2. Exploratory Data Analysis\n",
    "\n",
    "### 2.1 Categorical variables\n"
   ]
  },
  {
   "cell_type": "code",
   "execution_count": 414,
   "id": "e4906cdf",
   "metadata": {},
   "outputs": [
    {
     "data": {
      "image/png": "[encoded data removed]",
      "text/plain": [
       "<Figure size 720x720 with 10 Axes>"
      ]
     },
     "metadata": {
      "needs_background": "light"
     },
     "output_type": "display_data"
    }
   ],
   "source": [
    "# Creating a list containing the names of the categorical columns\n",
    "cat_cols = train.select_dtypes(include=['object']).columns\n",
    "\n",
    "# Plotting bar charts for categorical columns on the same figure\n",
    "fig = plt.figure(figsize=(10,10))\n",
    "for ind, col in enumerate(cat_cols):\n",
    "    ax = plt.subplot(3,4,ind+1)\n",
    "    sns.countplot(x=train[col], ax=ax)"
   ]
  },
  {
   "cell_type": "markdown",
   "id": "57cb96ec",
   "metadata": {},
   "source": [
    "Observations:\n",
    "- Can see a gap for the summer break in the `date` plot.\n",
    "- some missing data for the `round` column needs to be explored, perhaps delayed games that hadn't been played by the time the data was scraped are causing this.\n",
    "- Games are most commonly played on a Saturday or Sunday.\n",
    "- There is a difference in the number of losses and wins in the dataset. This is strange as if one team wins, another has to lose. Should investigate this further.\n",
    "- About a third of games end in draws.\n",
    "- There are a couple more popular formations than the rest. (could turn less popular formations into 'other' category to reduce number of options in this column.\n",
    "- The 2022 season is less represented in the dataset by 131 games (this is due to when the dataset was scraped).\n",
    "- Some teams have roughly half the number of games in the dataset (this could be due to promotion/relegation or missing data).\n",
    "\n",
    "Lets first look into the columns that may be effected my missing data or that raise questions, before then selecting a narrower range of categorical features and looking at if they seem to have any relation to winning or not.\n",
    "\n",
    "Things to investigate:\n",
    "1. Is every fixture in the dataset twice, from both teams 'perspective'?\n",
    "2. Why does `round` column have missing data?\n",
    "3. Why is there a difference between the number of wins and the number of losses in the dataset?\n",
    "4. What are the most popular formations?\n",
    "\n",
    "---\n",
    "1. Is every fixture in the dataset twice, from both teams 'perspective'?\n",
    "    - There are (10 x 38) games in a season"
   ]
  },
  {
   "cell_type": "code",
   "execution_count": 415,
   "id": "5962fac5",
   "metadata": {},
   "outputs": [
    {
     "name": "stdout",
     "output_type": "stream",
     "text": [
      "There are 380 games every season\n",
      "2021    760\n",
      "2022    347\n",
      "Name: season, dtype: int64\n"
     ]
    }
   ],
   "source": [
    "# Calculating number of games per season\n",
    "games_a_season = 10 * 38\n",
    "print(f'There are {games_a_season} games every season')\n",
    "\n",
    "# Looking at how many rows in the dataset correspond to each season\n",
    "print(train['season'].value_counts())"
   ]
  },
  {
   "cell_type": "markdown",
   "id": "49dfe0f2",
   "metadata": {},
   "source": [
    "Answer: Looks like every fixture is in the dataset twice, and can see we are missing more than half the season of data for the 2022 season.\n",
    "\n",
    "We won't take the time to remove the repeated matches because the added rows won't either hinder or add to the model, however the dataset is small so the effect on processing time is not significant.\n"
   ]
  },
  {
   "cell_type": "markdown",
   "id": "c9298d6e",
   "metadata": {},
   "source": [
    "2. Why does round column have missing data?"
   ]
  },
  {
   "cell_type": "code",
   "execution_count": 416,
   "id": "07375786",
   "metadata": {},
   "outputs": [
    {
     "data": {
      "text/plain": [
       "Matchweek 1     39\n",
       "Matchweek 8     39\n",
       "Matchweek 15    39\n",
       "Matchweek 14    39\n",
       "Matchweek 12    39\n",
       "Matchweek 11    39\n",
       "Matchweek 10    39\n",
       "Matchweek 9     39\n",
       "Matchweek 7     39\n",
       "Matchweek 6     39\n",
       "Matchweek 5     39\n",
       "Matchweek 4     39\n",
       "Matchweek 3     39\n",
       "Matchweek 2     39\n",
       "Matchweek 13    37\n",
       "Matchweek 16    37\n",
       "Matchweek 19    34\n",
       "Matchweek 20    33\n",
       "Matchweek 17    33\n",
       "Matchweek 18    27\n",
       "Matchweek 37    20\n",
       "Matchweek 36    20\n",
       "Matchweek 35    20\n",
       "Matchweek 34    20\n",
       "Matchweek 32    20\n",
       "Matchweek 31    20\n",
       "Matchweek 30    20\n",
       "Matchweek 28    20\n",
       "Matchweek 33    20\n",
       "Matchweek 27    20\n",
       "Matchweek 29    20\n",
       "Matchweek 26    20\n",
       "Matchweek 25    20\n",
       "Matchweek 24    20\n",
       "Matchweek 23    20\n",
       "Matchweek 22    20\n",
       "Matchweek 21    20\n",
       "Matchweek 38    20\n",
       "Name: round, dtype: int64"
      ]
     },
     "execution_count": 416,
     "metadata": {},
     "output_type": "execute_result"
    }
   ],
   "source": [
    "# Looking at the frequencies for each matchweek to be in the dataset\n",
    "train['round'].value_counts()"
   ]
  },
  {
   "cell_type": "markdown",
   "id": "353f42e0",
   "metadata": {},
   "source": [
    "Looks like there is missing data for the matchweeks, Let's look at the value counts for the different teams to see if we can explain this."
   ]
  },
  {
   "cell_type": "code",
   "execution_count": 417,
   "id": "f545170f",
   "metadata": {},
   "outputs": [
    {
     "data": {
      "text/plain": [
       "Manchester City             58\n",
       "Chelsea                     58\n",
       "West Ham United             57\n",
       "Crystal Palace              57\n",
       "Newcastle United            57\n",
       "Southampton                 57\n",
       "Arsenal                     57\n",
       "Wolverhampton Wanderers     56\n",
       "Manchester United           56\n",
       "Aston Villa                 56\n",
       "Leeds United                56\n",
       "Brighton and Hove Albion    56\n",
       "Leicester City              56\n",
       "Tottenham Hotspur           55\n",
       "Everton                     55\n",
       "Burnley                     54\n",
       "Liverpool                   38\n",
       "Fulham                      38\n",
       "West Bromwich Albion        38\n",
       "Sheffield United            38\n",
       "Norwich City                19\n",
       "Brentford                   18\n",
       "Watford                     17\n",
       "Name: team, dtype: int64"
      ]
     },
     "execution_count": 417,
     "metadata": {},
     "output_type": "execute_result"
    }
   ],
   "source": [
    "# Looking at the frequencies for each team in the dataset\n",
    "train['team'].value_counts()"
   ]
  },
  {
   "cell_type": "markdown",
   "id": "7c4db088",
   "metadata": {},
   "source": [
    "From looking at the value counts for the different teams and using some knowledge about how the premier league works we can see that:\n",
    "- The majority of teams have over 55 games in the dataset. These are teams which were in the premier league for two season.\n",
    "- The rest of the teams were either promoted or relegated from the premier league at the end of the 2021 season.\n",
    "    - Anomaly here as Liverpool were not relegated but have number of games in dataset to suggest that they were?\n",
    "- The varying number of games played for each team is due to the data being scraped midway through the 2022 season.\n",
    "\n",
    "Lets investigate Liverpool's missing data"
   ]
  },
  {
   "cell_type": "code",
   "execution_count": 418,
   "id": "86ae51c2",
   "metadata": {},
   "outputs": [
    {
     "data": {
      "text/plain": [
       "2021    38\n",
       "Name: season, dtype: int64"
      ]
     },
     "execution_count": 418,
     "metadata": {},
     "output_type": "execute_result"
    }
   ],
   "source": [
    "# Investigating the data for liverpool\n",
    "train[train['team'] == 'Liverpool'].season.value_counts()"
   ]
  },
  {
   "cell_type": "markdown",
   "id": "bf4ac11e",
   "metadata": {},
   "source": [
    "We can see that Livepool only have data for the 2021 season, therefore we can conclude that we are missing data for them in the 2022 season.\n",
    "\n",
    "--- \n",
    "\n",
    "3. Why is there a difference between the number of wins and the number of losses in the dataset?\n",
    "\n",
    "This can now be explained by the fact that we have 2 rows for every match in the dataset, one from each team's 'perspective' and because we are missing data from Liverpool in the 2022 season. Therefore the number of wins and losses in the dataset no longer match (example: if Arsenal beat liverpool in 2022 and registered a win in the dataset, there would be no row registering liverpool's perspective of a loss to match that row).\n",
    "\n",
    "---\n",
    "\n",
    "4. What are the most popular formations?\n"
   ]
  },
  {
   "cell_type": "code",
   "execution_count": 419,
   "id": "b59143ff",
   "metadata": {},
   "outputs": [
    {
     "data": {
      "image/png": "[encoded data removed]",
      "text/plain": [
       "<Figure size 432x288 with 1 Axes>"
      ]
     },
     "metadata": {},
     "output_type": "display_data"
    }
   ],
   "source": [
    "# Plotting a pie chart to look at the different formations used and their frequencies\n",
    "plt.pie(train['formation'].value_counts(),labels=train['formation'].value_counts().index)\n",
    "plt.show()"
   ]
  },
  {
   "cell_type": "markdown",
   "id": "aed0c0f3",
   "metadata": {},
   "source": [
    "Answer: We can see that the most common formations are 4231, 433, 343 and 442.\n",
    "\n",
    "Now that we have investigated those points we can move onto looking at some of the more relevant categorical variables and seeing if they appear to have any relation to the `win` column."
   ]
  },
  {
   "cell_type": "code",
   "execution_count": 420,
   "id": "809d6fe7",
   "metadata": {},
   "outputs": [
    {
     "data": {
      "image/png": "[encoded data removed]",
      "text/plain": [
       "<Figure size 1440x1080 with 3 Axes>"
      ]
     },
     "metadata": {
      "needs_background": "light"
     },
     "output_type": "display_data"
    }
   ],
   "source": [
    "# Creating a lost for a subset of categorical columns to be explored further\n",
    "cat_cols_subset = ['day', 'venue', 'formation']\n",
    "\n",
    "# Plotting bar graphs for the subset of categorical columns and comparing them with the `win` column\n",
    "fig = plt.figure(figsize=(20,15))\n",
    "for ind, col in enumerate(cat_cols_subset):\n",
    "    ax = plt.subplot(3,4,ind+1)\n",
    "    sns.countplot(x=train[col], ax=ax, hue=train['win'])\n",
    "    plt.xticks(rotation=90)\n",
    "    "
   ]
  },
  {
   "cell_type": "markdown",
   "id": "68d8e40d",
   "metadata": {},
   "source": [
    "Observations:\n",
    "- We can see that the home team is more likely to win than the away team\n",
    "- Some formations appear to have a significantly higher win percentage (could be down to a good team using this formation, therefore using this feature could introduce collinearity)\n",
    "\n",
    "### 2.2 Numerical Variables"
   ]
  },
  {
   "cell_type": "code",
   "execution_count": 421,
   "id": "fbdb5c13",
   "metadata": {},
   "outputs": [
    {
     "data": {
      "image/png": "[encoded data removed]",
      "text/plain": [
       "<Figure size 720x720 with 12 Axes>"
      ]
     },
     "metadata": {
      "needs_background": "light"
     },
     "output_type": "display_data"
    }
   ],
   "source": [
    "# Selecting all columns with float data type\n",
    "num_cols = train.select_dtypes(include=['float64']).columns\n",
    "\n",
    "# Plotting histograms for numerical features on the same figure\n",
    "fig = plt.figure(figsize=(10,10))\n",
    "for ind, col in enumerate(num_cols):\n",
    "    ax=plt.subplot(3,4,ind+1)\n",
    "    plt.hist(train[col])\n",
    "    plt.title(col)"
   ]
  },
  {
   "cell_type": "markdown",
   "id": "e2b59d06",
   "metadata": {},
   "source": [
    "Observations:\n",
    "- Everything looks normally distributed\n",
    "- `gf`, `ga`, `xgf`, `xga` are all rightly skewed. As are `fk`, `pk`, `pkatt`"
   ]
  },
  {
   "cell_type": "code",
   "execution_count": 422,
   "id": "ab78f5ea",
   "metadata": {},
   "outputs": [
    {
     "data": {
      "text/plain": [
       "<function matplotlib.pyplot.show(close=None, block=None)>"
      ]
     },
     "execution_count": 422,
     "metadata": {},
     "output_type": "execute_result"
    },
    {
     "data": {
      "image/png": "[encoded data removed]",
      "text/plain": [
       "<Figure size 720x432 with 2 Axes>"
      ]
     },
     "metadata": {
      "needs_background": "light"
     },
     "output_type": "display_data"
    }
   ],
   "source": [
    "# Plotting a heatmap to look at correlations between the variables\n",
    "correlations = train.corr()\n",
    "fig = plt.figure(figsize=(10,6))\n",
    "ax = sns.heatmap(correlations[abs(correlations) > 0.2], annot=True)\n",
    "plt.show"
   ]
  },
  {
   "cell_type": "markdown",
   "id": "95190cd7",
   "metadata": {},
   "source": [
    "Some things we can see from the heatmap above:\n",
    "- `Win` has high absolute correlation with: `gf`, `ga`, `xg`, `xga`, `sh`, `sot`, `pk`.\n",
    "- We see lots of correlations within different features. For example: `sh`, `sot` or `pk`, `pkatt`. We will have to think about how to deal with these features that are highly correlated.\n",
    "- `xg` has a high correlation with `win` but also high correlation with lots of the variables that are also correlated with `win`. This makes intuitive sense and `xg` is a stat which tracks 'expected goals'. This is a constructed statistic, so it is necessarily contingent on other post match stats for example `pk` therefore using the `xg` stat may introduce collinearilty into the model."
   ]
  },
  {
   "cell_type": "markdown",
   "id": "b4b3cc5e",
   "metadata": {},
   "source": [
    "## 3. Feature Selection\n",
    "\n",
    "Now we will choose some features that we will use to build our baseline model.\n",
    "\n",
    "Based of my intuition for the problem and the EDA performed above, for now we will use:\n",
    "-`venue`, `opponent`, `formation`, `sot`, `pk`, `team` as our features and our target variable is the `win` column.\n"
   ]
  },
  {
   "cell_type": "code",
   "execution_count": 475,
   "id": "4ab350bd",
   "metadata": {},
   "outputs": [],
   "source": [
    "# Selecting features we will use as predictors for our first model\n",
    "features = ['xg', 'xga', 'venue', 'opponent', 'formation', 'sot', 'pk', 'team', 'train', 'win']\n",
    "\n",
    "features_1 = ['sot', 'train', 'win']\n",
    "\n",
    "all_data_subset = all_data[features]"
   ]
  },
  {
   "cell_type": "markdown",
   "id": "099715c7",
   "metadata": {},
   "source": [
    "## 4. Feature Engineering\n",
    "\n",
    "For now I am just going to leave the features as they are to see how they work in a baseline model\n"
   ]
  },
  {
   "cell_type": "markdown",
   "id": "b01825ee",
   "metadata": {},
   "source": [
    "## 5. Data Preprocessing\n",
    "\n",
    "Lets preprocess the data to get it ready to be used in our model."
   ]
  },
  {
   "cell_type": "code",
   "execution_count": 476,
   "id": "968026f5",
   "metadata": {},
   "outputs": [],
   "source": [
    "# Creating dummy variables for categorical features\n",
    "all_data_dummies = pd.get_dummies(all_data_subset, columns=['venue', 'opponent', 'formation', 'team'], drop_first=True)\n",
    "#all_data_dummies = all_data_subset.copy()"
   ]
  },
  {
   "cell_type": "code",
   "execution_count": 477,
   "id": "36e13da5",
   "metadata": {},
   "outputs": [],
   "source": [
    "# Splitting the data back into a train and test set\n",
    "train = all_data_dummies[all_data_dummies['train'] == 1]\n",
    "test = all_data_dummies[all_data_dummies['train'] == 0]\n",
    "\n",
    "# Defining the X and y data ready for the model from the training data\n",
    "y_train = train['win']\n",
    "X_train = train.drop(['train', 'win'], axis=1)\n",
    "\n",
    "# Defining the X and y data ready for the model from the test data\n",
    "y_test = test['win']\n",
    "X_test = test.drop(['train', 'win'], axis=1)"
   ]
  },
  {
   "cell_type": "code",
   "execution_count": 478,
   "id": "b4246eff",
   "metadata": {},
   "outputs": [],
   "source": [
    "# Importing a scaler\n",
    "from sklearn.preprocessing import StandardScaler\n",
    "\n",
    "# Defining the scaler\n",
    "scaler = StandardScaler()\n",
    "\n",
    "# Fitting the scaler to the X_train data then transforming both X_train and X_test\n",
    "X_train_scaled = scaler.fit_transform(X_train)\n",
    "X_test_scaled = scaler.transform(X_test)\n"
   ]
  },
  {
   "cell_type": "markdown",
   "id": "231c40a7",
   "metadata": {},
   "source": [
    "## 6. Model Building\n",
    "\n",
    "For this classification problem, we will use different models and compare their results. We will use a K-nearest neighbors classifier, a decision tree classifier and a logistic regression classifier. We will test their performance over cross validation sets and then test their performance on a final test set and compile the results.\n",
    "\n",
    "### 6.1 K-Nearest Neighbours"
   ]
  },
  {
   "cell_type": "code",
   "execution_count": 555,
   "id": "2636d913",
   "metadata": {},
   "outputs": [],
   "source": [
    "# Importing cross validation, accuracy score and gridsearch\n",
    "from sklearn.model_selection import cross_val_score, GridSearchCV\n",
    "from sklearn.metrics import accuracy_score"
   ]
  },
  {
   "cell_type": "code",
   "execution_count": 556,
   "id": "cd135327",
   "metadata": {},
   "outputs": [],
   "source": [
    "# Finding the optimal number of neighbours for K nearest neighbours\n",
    "\n",
    "# Empty list to contain the CV scores\n",
    "knn_cv_scores = []\n",
    "\n",
    "# Calling the model with a range of neighbour values and appending the mean CV score to a list\n",
    "for i  in range(1,50):\n",
    "    knn_ksearch = KNeighborsClassifier(n_neighbors=i)\n",
    "    knn_cv = cross_val_score(knn_ksearch, X_train_scaled, y_train).mean()\n",
    "    knn_cv_scores.append(knn_cv)"
   ]
  },
  {
   "cell_type": "code",
   "execution_count": 557,
   "id": "1c605750",
   "metadata": {},
   "outputs": [
    {
     "data": {
      "image/png": "[encoded data removed]",
      "text/plain": [
       "<Figure size 432x288 with 1 Axes>"
      ]
     },
     "metadata": {
      "needs_background": "light"
     },
     "output_type": "display_data"
    }
   ],
   "source": [
    "# Plotting how mean CV score vaires with number of neighbours\n",
    "plt.title(\"cross validation against number of neighbours for a KNN model\")\n",
    "plt.plot(range(1,50), knn_cv_scores)\n",
    "plt.show()"
   ]
  },
  {
   "cell_type": "markdown",
   "id": "7f9ba77b",
   "metadata": {},
   "source": [
    "From the above plot we can see that choosing 10 as the number of neighbours will maximise the CV score and be less likely to lead to overfitting."
   ]
  },
  {
   "cell_type": "code",
   "execution_count": 558,
   "id": "048804c0",
   "metadata": {},
   "outputs": [
    {
     "name": "stdout",
     "output_type": "stream",
     "text": [
      "for the KNN model the mean CV score was: 0.613 and the test accuracy score was 0.674\n"
     ]
    }
   ],
   "source": [
    "# Importing a K nearest neighbours classifier\n",
    "from sklearn.neighbors import KNeighborsClassifier\n",
    "\n",
    "# Calling the model with 10 neighbours and finding the mean cv score\n",
    "knn = KNeighborsClassifier(n_neighbors=24)\n",
    "knn_cv = round(cross_val_score(knn, X_train_scaled, y_train).mean(), 3)\n",
    "\n",
    "# Fitting the model and making a prediction\n",
    "knn_model = knn.fit(X_train_scaled, y_train)\n",
    "knn_prediction = knn_model.predict(X_test_scaled)\n",
    "\n",
    "# Finding the accuracy score for the predictions made\n",
    "knn_test_score = round(accuracy_score(y_test, knn_prediction), 3)\n",
    "\n",
    "print(f'for the KNN model the mean CV score was: {knn_cv} and the test accuracy score was {knn_test_score}')"
   ]
  },
  {
   "cell_type": "markdown",
   "id": "2afd29e7",
   "metadata": {},
   "source": [
    "### 6.2 Logistic Regression"
   ]
  },
  {
   "cell_type": "code",
   "execution_count": 593,
   "id": "c73e6a15",
   "metadata": {},
   "outputs": [
    {
     "name": "stdout",
     "output_type": "stream",
     "text": [
      "{'C': 0.01, 'penalty': 'l2'}\n"
     ]
    }
   ],
   "source": [
    "# Hyperparameter tuning using grid search\n",
    "\n",
    "# Instantiating the model\n",
    "lr = LogisticRegression()\n",
    "\n",
    "# Defining the params to search over\n",
    "params = {\n",
    "    \"C\":np.logspace(-3,3,7),\n",
    "    \"penalty\":[\"l2\"]\n",
    "}\n",
    "\n",
    "# Performing grid search on the train data and printing the best parameters\n",
    "lr_grid = GridSearchCV(estimator=lr, param_grid=params)\n",
    "lr_grid.fit(X_train_scaled, y_train)\n",
    "print(lr_grid.best_params_)"
   ]
  },
  {
   "cell_type": "code",
   "execution_count": 594,
   "id": "94084537",
   "metadata": {},
   "outputs": [],
   "source": [
    "# Importing a logistic regression classifier\n",
    "from sklearn.linear_model import LogisticRegression\n",
    "\n",
    "# Using the model with hyperparameters found from gridsearch to get a mean cross val score\n",
    "lr = lr_grid.best_estimator_\n",
    "lr_cv = round(cross_val_score(lr, X_train_scaled, y_train).mean(), 3)"
   ]
  },
  {
   "cell_type": "code",
   "execution_count": 595,
   "id": "c256812a",
   "metadata": {},
   "outputs": [],
   "source": [
    "# Fitting the logistic regression model and making a prediction on the test set\n",
    "lr_model = lr.fit(X_train_scaled, y_train)\n",
    "lr_prediction = lr_model.predict(X_test_scaled)\n",
    "\n",
    "# Finding the accuracy score for logistic regression model on the test set\n",
    "lr_test_score = round(accuracy_score(y_test, lr_prediction), 3)"
   ]
  },
  {
   "cell_type": "code",
   "execution_count": 596,
   "id": "a512d59c",
   "metadata": {},
   "outputs": [
    {
     "name": "stdout",
     "output_type": "stream",
     "text": [
      "for the logistic regression model the mean CV score was: 0.678 and the test accuracy score was 0.725\n"
     ]
    }
   ],
   "source": [
    "print(f'for the logistic regression model the mean CV score was: {lr_cv} and the test accuracy score was {lr_test_score}')"
   ]
  },
  {
   "cell_type": "markdown",
   "id": "58a27876",
   "metadata": {},
   "source": [
    "### 6.3 Random Forest Classifier"
   ]
  },
  {
   "cell_type": "code",
   "execution_count": 610,
   "id": "d912e988",
   "metadata": {},
   "outputs": [
    {
     "name": "stdout",
     "output_type": "stream",
     "text": [
      "{'max_depth': 8, 'n_estimators': 256}\n"
     ]
    }
   ],
   "source": [
    "# Hyperparameter tuning using grid search\n",
    "\n",
    "# Instantiating the model\n",
    "rfc = RandomForestClassifier()\n",
    "\n",
    "# Defining the params to search over\n",
    "params = {\n",
    "    \"max_depth\": [2,8,16],\n",
    "    \"n_estimators\": [64, 128, 256]\n",
    "}\n",
    "\n",
    "# Performing grid search on the train data and printing the best parameters\n",
    "rfc_grid = GridSearchCV(estimator=rfc, param_grid=params)\n",
    "rfc_grid.fit(X_train_scaled, y_train)\n",
    "print(rfc_grid.best_params_)"
   ]
  },
  {
   "cell_type": "code",
   "execution_count": 617,
   "id": "bd59703a",
   "metadata": {},
   "outputs": [],
   "source": [
    "# Importing the random forest classifier\n",
    "from sklearn.ensemble import RandomForestClassifier\n",
    "\n",
    "# Calling the random forest classifier and finding the mean cv score\n",
    "rfc = rfc_grid.best_estimator_\n",
    "rfc_cv = round(cross_val_score(rfc, X_train_scaled, y_train).mean(), 3)"
   ]
  },
  {
   "cell_type": "code",
   "execution_count": 627,
   "id": "588de9b3",
   "metadata": {},
   "outputs": [],
   "source": [
    "# Fitting the random forest classifier model and making a prediction on the test set\n",
    "\n",
    "# Emtply list to store different accuracy scores on test set\n",
    "rfc_test_scores = []\n",
    "\n",
    "# Adding 5 different test scores for random forest classifier to then find an average\n",
    "for i in range(1,6):\n",
    "    rfc_model = rfc.fit(X_train_scaled, y_train)\n",
    "    rfc_prediction = rfc_model.predict(X_test_scaled)\n",
    "    rfc_test_score = round(accuracy_score(y_test, rfc_prediction), 3)\n",
    "    rfc_test_scores.append(rfc_test_score)\n",
    "\n",
    "\n",
    "# Finding the mean accuracy score for the random forest classifier on the test set\n",
    "rfc_test_score_mean = np.mean(rfc_test_scores)"
   ]
  },
  {
   "cell_type": "code",
   "execution_count": 629,
   "id": "8da23e12",
   "metadata": {},
   "outputs": [
    {
     "name": "stdout",
     "output_type": "stream",
     "text": [
      "for the random forest classifier model the mean CV score was: 0.692 and the mean test accuracy score was 0.7282\n"
     ]
    }
   ],
   "source": [
    "print(f'for the random forest classifier model the mean CV score was: {rfc_cv} and the mean test accuracy score was {rfc_test_score_mean}')"
   ]
  },
  {
   "cell_type": "markdown",
   "id": "558f9cf7",
   "metadata": {},
   "source": [
    "### 6.3.1 Random Forest Classifier Confusion Matrix\n",
    "\n",
    "Lets take a look at how our random forest classifier is doing with its classifications."
   ]
  },
  {
   "cell_type": "code",
   "execution_count": 650,
   "id": "76d7730d",
   "metadata": {},
   "outputs": [
    {
     "data": {
      "image/png": "[encoded data removed]",
      "text/plain": [
       "<Figure size 432x288 with 2 Axes>"
      ]
     },
     "metadata": {
      "needs_background": "light"
     },
     "output_type": "display_data"
    }
   ],
   "source": [
    "# Importing confusion matrix\n",
    "from sklearn.metrics import confusion_matrix, ConfusionMatrixDisplay\n",
    "\n",
    "# Making the confusion matrix\n",
    "rfc_confusion_matrix = confusion_matrix(y_test, rfc_prediction)\n",
    "\n",
    "# Displaying the confusion matrix\n",
    "cm_display = ConfusionMatrixDisplay(confusion_matrix = rfc_confusion_matrix, display_labels = ['draw or loss', 'win'])\n",
    "cm_display.plot()\n",
    "plt.show()"
   ]
  },
  {
   "cell_type": "markdown",
   "id": "302a311d",
   "metadata": {},
   "source": [
    "Here we can see that our model in general performs well. However we can see that it is worse at predicting draws or losses that were actually wins than it is at predicting wins that were actually draws or losses."
   ]
  },
  {
   "cell_type": "markdown",
   "id": "33c455dc",
   "metadata": {},
   "source": [
    "### 7. Conclusion"
   ]
  },
  {
   "cell_type": "code",
   "execution_count": 630,
   "id": "31a0bddd",
   "metadata": {},
   "outputs": [],
   "source": [
    "# Creating a dataframe to summarise the results\n",
    "summary_table = pd.DataFrame({'K-Nearest Neighbours': (knn_cv, knn_test_score),\n",
    "                              'Logistic Regression': (lr_cv, lr_test_score),\n",
    "                              'Random Forest Classifier': (rfc_cv, rfc_test_score_mean)\n",
    "                             }, index=('CV score','Test Accuracy Score'))"
   ]
  },
  {
   "cell_type": "code",
   "execution_count": 631,
   "id": "08f65eb8",
   "metadata": {},
   "outputs": [
    {
     "data": {
      "text/html": [
       "<div>\n",
       "<style scoped>\n",
       "    .dataframe tbody tr th:only-of-type {\n",
       "        vertical-align: middle;\n",
       "    }\n",
       "\n",
       "    .dataframe tbody tr th {\n",
       "        vertical-align: top;\n",
       "    }\n",
       "\n",
       "    .dataframe thead th {\n",
       "        text-align: right;\n",
       "    }\n",
       "</style>\n",
       "<table border=\"1\" class=\"dataframe\">\n",
       "  <thead>\n",
       "    <tr style=\"text-align: right;\">\n",
       "      <th></th>\n",
       "      <th>K-Nearest Neighbours</th>\n",
       "      <th>Logistic Regression</th>\n",
       "      <th>Random Forest Classifier</th>\n",
       "    </tr>\n",
       "  </thead>\n",
       "  <tbody>\n",
       "    <tr>\n",
       "      <th>CV score</th>\n",
       "      <td>0.613</td>\n",
       "      <td>0.678</td>\n",
       "      <td>0.6920</td>\n",
       "    </tr>\n",
       "    <tr>\n",
       "      <th>Test Accuracy Score</th>\n",
       "      <td>0.674</td>\n",
       "      <td>0.725</td>\n",
       "      <td>0.7282</td>\n",
       "    </tr>\n",
       "  </tbody>\n",
       "</table>\n",
       "</div>"
      ],
      "text/plain": [
       "                     K-Nearest Neighbours  Logistic Regression  \\\n",
       "CV score                            0.613                0.678   \n",
       "Test Accuracy Score                 0.674                0.725   \n",
       "\n",
       "                     Random Forest Classifier  \n",
       "CV score                               0.6920  \n",
       "Test Accuracy Score                    0.7282  "
      ]
     },
     "execution_count": 631,
     "metadata": {},
     "output_type": "execute_result"
    }
   ],
   "source": [
    "summary_table"
   ]
  },
  {
   "cell_type": "markdown",
   "id": "bb6af0b5",
   "metadata": {},
   "source": [
    "Above we can see a table showing the results for all our models. We can see that the **random forest classifier** performed the best on our data, with a **CV score of 0.692** and a **test accuracy score of 0.728**. This means that this model can correctly predict the winner of a football match by seeing the post match stats roughly 73% of the time.\n",
    "\n",
    "In the matches were our model predicts that the team won the game, it is saying that 'normally' if the team played this well and had these post match stats it means it probably won the game. Therefore to not have won the game is in some sense unlucky. Perhaps this type of model could help coaches understand when their team performed well and had a strong performance statistically but failed to win the game.\n",
    "\n",
    "This project has shown that from looking solely at the post match stats it is possible to have a very good guess at which team won the game. Whilst this can't help any football fans to 'beat the bookies' it does support a football fans intuition that sometimes a team is hard done by and perhaps 'deserved' to win the game."
   ]
  },
  {
   "cell_type": "markdown",
   "id": "ee63cd63",
   "metadata": {},
   "source": [
    "## Improvements to project\n",
    "- Add more data (could be premier league other season, or from different leagues) or test the model on new data\n",
    "- Do some feature anaylsis to see which features are most correlated with winning performances\n",
    "\n",
    "## Future developments of project\n",
    "- Add more features and more data to the model. Scrape new data for recent games and predict on them, have the model then feedback what changes in the stats would have most likely helped a team to win (for example, gave away too many free kicks that resulted in a shot, therefore conceded too many goals) therefore using the model to give actionable insights for football coaches.\n"
   ]
  },
  {
   "cell_type": "code",
   "execution_count": null,
   "id": "50eaf6c2",
   "metadata": {},
   "outputs": [],
   "source": []
  }
 ],
 "metadata": {
  "kernelspec": {
   "display_name": "Python 3 (ipykernel)",
   "language": "python",
   "name": "python3"
  },
  "language_info": {
   "codemirror_mode": {
    "name": "ipython",
    "version": 3
   },
   "file_extension": ".py",
   "mimetype": "text/x-python",
   "name": "python",
   "nbconvert_exporter": "python",
   "pygments_lexer": "ipython3",
   "version": "3.9.12"
  }
 },
 "nbformat": 4,
 "nbformat_minor": 5
}
